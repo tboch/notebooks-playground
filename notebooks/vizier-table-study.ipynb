{
 "cells": [
  {
   "cell_type": "code",
   "execution_count": 1,
   "metadata": {},
   "outputs": [],
   "source": [
    "from astropy.io import votable\n",
    "from urllib.parse import urlparse, parse_qs\n",
    "import warnings\n",
    "from ipyaladin import Aladin\n",
    "import matplotlib.pyplot as plt\n",
    "from beakerx import *\n",
    "import plotly.graph_objects as go\n",
    "import pandas\n",
    "import seaborn as sns\n",
    "import numpy as np\n",
    "warnings.simplefilter('ignore')\n",
    "\n",
    "\n",
    "import ipywidgets as widgets\n",
    "\n",
    "%matplotlib inline"
   ]
  },
  {
   "cell_type": "code",
   "execution_count": 2,
   "metadata": {},
   "outputs": [
    {
     "data": {
      "application/javascript": [
       "IPython.notebook.kernel.execute(\"notebook_url = '\" + window.location + \"'\");"
      ],
      "text/plain": [
       "<IPython.core.display.Javascript object>"
      ]
     },
     "metadata": {},
     "output_type": "display_data"
    }
   ],
   "source": [
    "%%javascript\n",
    "IPython.notebook.kernel.execute(\"notebook_url = '\" + window.location + \"'\");\n"
   ]
  },
  {
   "cell_type": "code",
   "execution_count": 3,
   "metadata": {},
   "outputs": [
    {
     "name": "stdout",
     "output_type": "stream",
     "text": [
      "table_url parameter has not been found in URL!\n",
      "Enter a table URL in text field below\n"
     ]
    },
    {
     "data": {
      "application/vnd.jupyter.widget-view+json": {
       "model_id": "1c8fac2edc6d460894663c747d7e2cea",
       "version_major": 2,
       "version_minor": 0
      },
      "text/plain": [
       "Text(value='', description='Table URL', layout=Layout(width='90%'))"
      ]
     },
     "metadata": {},
     "output_type": "display_data"
    }
   ],
   "source": [
    "# table URL example: http://vizier.u-strasbg.fr/viz-bin/votable?-source=J%2FApJ%2F720%2F368%2Ftable5&-out.max=9999\n",
    "\n",
    "query = urlparse(notebook_url).query\n",
    "params = parse_qs(query)\n",
    "table_url = params.get('table_url')\n",
    "if table_url is None:\n",
    "    print('table_url parameter has not been found in URL!\\nEnter a table URL in text field below')\n",
    "else:\n",
    "    table_url = table_url[0]\n",
    "    print(f'Let\\'s analyze table {table_url}')\n",
    "    \n",
    "table_url_widget = widgets.Text(description='Table URL', value=table_url, layout=widgets.Layout(width='90%'))\n",
    "table_url_widget"
   ]
  },
  {
   "cell_type": "code",
   "execution_count": 4,
   "metadata": {},
   "outputs": [],
   "source": [
    "table_url = table_url_widget.value"
   ]
  },
  {
   "cell_type": "markdown",
   "metadata": {},
   "source": [
    "## Retrieve and parse table"
   ]
  },
  {
   "cell_type": "code",
   "execution_count": 5,
   "metadata": {},
   "outputs": [
    {
     "name": "stdout",
     "output_type": "stream",
     "text": [
      "4941 rows retrieved\n"
     ]
    }
   ],
   "source": [
    "vot = votable.parse_single_table(table_url)\n",
    "# retrieve all UCDs\n",
    "ucd_list = [f.ucd for f in vot.fields]\n",
    "print(f'{vot.nrows} rows retrieved')"
   ]
  },
  {
   "cell_type": "markdown",
   "metadata": {},
   "source": [
    "## Convert to Pandas DataFrame"
   ]
  },
  {
   "cell_type": "code",
   "execution_count": 6,
   "metadata": {},
   "outputs": [],
   "source": [
    "t = vot.to_table()\n",
    "df = t.to_pandas()\n",
    "# due to a bug in pandas, we cast all numeric columns to float64 type\n",
    "numeric_columns = df.select_dtypes(include=np.number).columns.tolist()\n",
    "df[numeric_columns] = df[numeric_columns].astype(np.float64)\n",
    "# build dict column name-->UCD\n",
    "name2ucd = dict(zip(df.columns.tolist(), ucd_list))\n"
   ]
  },
  {
   "cell_type": "markdown",
   "metadata": {},
   "source": [
    "## Display table"
   ]
  },
  {
   "cell_type": "code",
   "execution_count": 7,
   "metadata": {},
   "outputs": [
    {
     "ename": "AttributeError",
     "evalue": "'Series' object has no attribute 'get_values'",
     "output_type": "error",
     "traceback": [
      "\u001b[0;31m---------------------------------------------------------------------------\u001b[0m",
      "\u001b[0;31mAttributeError\u001b[0m                            Traceback (most recent call last)",
      "\u001b[0;32m<ipython-input-7-014fa9098634>\u001b[0m in \u001b[0;36m<module>\u001b[0;34m()\u001b[0m\n\u001b[0;32m----> 1\u001b[0;31m \u001b[0mtable\u001b[0m \u001b[0;34m=\u001b[0m \u001b[0mTableDisplay\u001b[0m\u001b[0;34m(\u001b[0m\u001b[0mdf\u001b[0m\u001b[0;34m)\u001b[0m\u001b[0;34m\u001b[0m\u001b[0;34m\u001b[0m\u001b[0m\n\u001b[0m\u001b[1;32m      2\u001b[0m \u001b[0;32mfor\u001b[0m \u001b[0mfield_name\u001b[0m \u001b[0;32min\u001b[0m \u001b[0mname2ucd\u001b[0m\u001b[0;34m:\u001b[0m\u001b[0;34m\u001b[0m\u001b[0;34m\u001b[0m\u001b[0m\n\u001b[1;32m      3\u001b[0m     \u001b[0;32mif\u001b[0m \u001b[0mname2ucd\u001b[0m\u001b[0;34m[\u001b[0m\u001b[0mfield_name\u001b[0m\u001b[0;34m]\u001b[0m\u001b[0;34m==\u001b[0m\u001b[0;34m'pos.eq.ra;meta.main'\u001b[0m \u001b[0;32mor\u001b[0m \u001b[0mname2ucd\u001b[0m\u001b[0;34m[\u001b[0m\u001b[0mfield_name\u001b[0m\u001b[0;34m]\u001b[0m\u001b[0;34m==\u001b[0m\u001b[0;34m'pos.eq.dec;meta.main'\u001b[0m\u001b[0;34m:\u001b[0m\u001b[0;34m\u001b[0m\u001b[0;34m\u001b[0m\u001b[0m\n\u001b[1;32m      4\u001b[0m         \u001b[0mtable\u001b[0m\u001b[0;34m.\u001b[0m\u001b[0maddCellHighlighter\u001b[0m\u001b[0;34m(\u001b[0m\u001b[0mTableDisplayCellHighlighter\u001b[0m\u001b[0;34m.\u001b[0m\u001b[0mgetHeatmapHighlighter\u001b[0m\u001b[0;34m(\u001b[0m\u001b[0mfield_name\u001b[0m\u001b[0;34m,\u001b[0m \u001b[0mTableDisplayCellHighlighter\u001b[0m\u001b[0;34m.\u001b[0m\u001b[0mSINGLE_COLUMN\u001b[0m\u001b[0;34m)\u001b[0m\u001b[0;34m)\u001b[0m\u001b[0;34m\u001b[0m\u001b[0;34m\u001b[0m\u001b[0m\n\u001b[1;32m      5\u001b[0m     \u001b[0;32melif\u001b[0m \u001b[0mname2ucd\u001b[0m\u001b[0;34m[\u001b[0m\u001b[0mfield_name\u001b[0m\u001b[0;34m]\u001b[0m\u001b[0;34m==\u001b[0m\u001b[0;34m'src.redshift'\u001b[0m\u001b[0;34m:\u001b[0m\u001b[0;34m\u001b[0m\u001b[0;34m\u001b[0m\u001b[0m\n",
      "\u001b[0;32m~/miniconda3/lib/python3.6/site-packages/beakerx/tabledisplay/tabledisplay.py\u001b[0m in \u001b[0;36m__init__\u001b[0;34m(self, *args, **kwargs)\u001b[0m\n\u001b[1;32m    175\u001b[0m     \u001b[0;32mdef\u001b[0m \u001b[0m__init__\u001b[0m\u001b[0;34m(\u001b[0m\u001b[0mself\u001b[0m\u001b[0;34m,\u001b[0m \u001b[0;34m*\u001b[0m\u001b[0margs\u001b[0m\u001b[0;34m,\u001b[0m \u001b[0;34m**\u001b[0m\u001b[0mkwargs\u001b[0m\u001b[0;34m)\u001b[0m\u001b[0;34m:\u001b[0m\u001b[0;34m\u001b[0m\u001b[0;34m\u001b[0m\u001b[0m\n\u001b[1;32m    176\u001b[0m         \u001b[0msuper\u001b[0m\u001b[0;34m(\u001b[0m\u001b[0mTableDisplay\u001b[0m\u001b[0;34m,\u001b[0m \u001b[0mself\u001b[0m\u001b[0;34m)\u001b[0m\u001b[0;34m.\u001b[0m\u001b[0m__init__\u001b[0m\u001b[0;34m(\u001b[0m\u001b[0;34m**\u001b[0m\u001b[0mkwargs\u001b[0m\u001b[0;34m)\u001b[0m\u001b[0;34m\u001b[0m\u001b[0;34m\u001b[0m\u001b[0m\n\u001b[0;32m--> 177\u001b[0;31m         \u001b[0mself\u001b[0m\u001b[0;34m.\u001b[0m\u001b[0mchart\u001b[0m \u001b[0;34m=\u001b[0m \u001b[0mTable\u001b[0m\u001b[0;34m(\u001b[0m\u001b[0;34m*\u001b[0m\u001b[0margs\u001b[0m\u001b[0;34m,\u001b[0m \u001b[0;34m**\u001b[0m\u001b[0mkwargs\u001b[0m\u001b[0;34m)\u001b[0m\u001b[0;34m\u001b[0m\u001b[0;34m\u001b[0m\u001b[0m\n\u001b[0m\u001b[1;32m    178\u001b[0m         \u001b[0mself\u001b[0m\u001b[0;34m.\u001b[0m\u001b[0mmodel\u001b[0m \u001b[0;34m=\u001b[0m \u001b[0mself\u001b[0m\u001b[0;34m.\u001b[0m\u001b[0mchart\u001b[0m\u001b[0;34m.\u001b[0m\u001b[0mtransform\u001b[0m\u001b[0;34m(\u001b[0m\u001b[0;34m)\u001b[0m\u001b[0;34m\u001b[0m\u001b[0;34m\u001b[0m\u001b[0m\n\u001b[1;32m    179\u001b[0m         \u001b[0mself\u001b[0m\u001b[0;34m.\u001b[0m\u001b[0mon_msg\u001b[0m\u001b[0;34m(\u001b[0m\u001b[0mself\u001b[0m\u001b[0;34m.\u001b[0m\u001b[0mhandle_msg\u001b[0m\u001b[0;34m)\u001b[0m\u001b[0;34m\u001b[0m\u001b[0;34m\u001b[0m\u001b[0m\n",
      "\u001b[0;32m~/miniconda3/lib/python3.6/site-packages/beakerx/tabledisplay/tabledisplay.py\u001b[0m in \u001b[0;36m__init__\u001b[0;34m(self, *args, **kwargs)\u001b[0m\n\u001b[1;32m     31\u001b[0m         \u001b[0mself\u001b[0m\u001b[0;34m.\u001b[0m\u001b[0mhasIndex\u001b[0m \u001b[0;34m=\u001b[0m \u001b[0;32mNone\u001b[0m\u001b[0;34m\u001b[0m\u001b[0;34m\u001b[0m\u001b[0m\n\u001b[1;32m     32\u001b[0m         \u001b[0;32mif\u001b[0m \u001b[0misinstance\u001b[0m\u001b[0;34m(\u001b[0m\u001b[0margs\u001b[0m\u001b[0;34m[\u001b[0m\u001b[0;36m0\u001b[0m\u001b[0;34m]\u001b[0m\u001b[0;34m,\u001b[0m \u001b[0mDataFrame\u001b[0m\u001b[0;34m)\u001b[0m\u001b[0;34m:\u001b[0m\u001b[0;34m\u001b[0m\u001b[0;34m\u001b[0m\u001b[0m\n\u001b[0;32m---> 33\u001b[0;31m             \u001b[0mself\u001b[0m\u001b[0;34m.\u001b[0m\u001b[0mconvert_from_pandas\u001b[0m\u001b[0;34m(\u001b[0m\u001b[0margs\u001b[0m\u001b[0;34m,\u001b[0m \u001b[0mtypes_map\u001b[0m\u001b[0;34m)\u001b[0m\u001b[0;34m\u001b[0m\u001b[0;34m\u001b[0m\u001b[0m\n\u001b[0m\u001b[1;32m     34\u001b[0m         \u001b[0;32melif\u001b[0m \u001b[0misinstance\u001b[0m\u001b[0;34m(\u001b[0m\u001b[0margs\u001b[0m\u001b[0;34m[\u001b[0m\u001b[0;36m0\u001b[0m\u001b[0;34m]\u001b[0m\u001b[0;34m,\u001b[0m \u001b[0mdict\u001b[0m\u001b[0;34m)\u001b[0m\u001b[0;34m:\u001b[0m\u001b[0;34m\u001b[0m\u001b[0;34m\u001b[0m\u001b[0m\n\u001b[1;32m     35\u001b[0m             \u001b[0mself\u001b[0m\u001b[0;34m.\u001b[0m\u001b[0mconvert_from_dict\u001b[0m\u001b[0;34m(\u001b[0m\u001b[0margs\u001b[0m\u001b[0;34m)\u001b[0m\u001b[0;34m\u001b[0m\u001b[0;34m\u001b[0m\u001b[0m\n",
      "\u001b[0;32m~/miniconda3/lib/python3.6/site-packages/beakerx/tabledisplay/tabledisplay.py\u001b[0m in \u001b[0;36mconvert_from_pandas\u001b[0;34m(self, args, types_map)\u001b[0m\n\u001b[1;32m    105\u001b[0m             \u001b[0mrow\u001b[0m \u001b[0;34m=\u001b[0m \u001b[0;34m[\u001b[0m\u001b[0;34m]\u001b[0m\u001b[0;34m\u001b[0m\u001b[0;34m\u001b[0m\u001b[0m\n\u001b[1;32m    106\u001b[0m             \u001b[0;32mfor\u001b[0m \u001b[0mcolumnName\u001b[0m \u001b[0;32min\u001b[0m \u001b[0mself\u001b[0m\u001b[0;34m.\u001b[0m\u001b[0mcolumnNames\u001b[0m\u001b[0;34m:\u001b[0m\u001b[0;34m\u001b[0m\u001b[0;34m\u001b[0m\u001b[0m\n\u001b[0;32m--> 107\u001b[0;31m                 \u001b[0mvalue\u001b[0m \u001b[0;34m=\u001b[0m \u001b[0margs\u001b[0m\u001b[0;34m[\u001b[0m\u001b[0;36m0\u001b[0m\u001b[0;34m]\u001b[0m\u001b[0;34m[\u001b[0m\u001b[0mcolumnName\u001b[0m\u001b[0;34m]\u001b[0m\u001b[0;34m.\u001b[0m\u001b[0mget_values\u001b[0m\u001b[0;34m(\u001b[0m\u001b[0;34m)\u001b[0m\u001b[0;34m[\u001b[0m\u001b[0mindex\u001b[0m\u001b[0;34m]\u001b[0m\u001b[0;34m\u001b[0m\u001b[0;34m\u001b[0m\u001b[0m\n\u001b[0m\u001b[1;32m    108\u001b[0m                 \u001b[0mvalue_type\u001b[0m \u001b[0;34m=\u001b[0m \u001b[0mtypes_map\u001b[0m\u001b[0;34m.\u001b[0m\u001b[0mget\u001b[0m\u001b[0;34m(\u001b[0m\u001b[0mcolumnName\u001b[0m\u001b[0;34m)\u001b[0m\u001b[0;34m\u001b[0m\u001b[0;34m\u001b[0m\u001b[0m\n\u001b[1;32m    109\u001b[0m                 \u001b[0mrow\u001b[0m\u001b[0;34m.\u001b[0m\u001b[0mappend\u001b[0m\u001b[0;34m(\u001b[0m\u001b[0mself\u001b[0m\u001b[0;34m.\u001b[0m\u001b[0mconvert_value\u001b[0m\u001b[0;34m(\u001b[0m\u001b[0mvalue\u001b[0m\u001b[0;34m,\u001b[0m \u001b[0mvalue_type\u001b[0m\u001b[0;34m)\u001b[0m\u001b[0;34m)\u001b[0m\u001b[0;34m\u001b[0m\u001b[0;34m\u001b[0m\u001b[0m\n",
      "\u001b[0;32m~/miniconda3/lib/python3.6/site-packages/pandas/core/generic.py\u001b[0m in \u001b[0;36m__getattr__\u001b[0;34m(self, name)\u001b[0m\n\u001b[1;32m   5272\u001b[0m             \u001b[0;32mif\u001b[0m \u001b[0mself\u001b[0m\u001b[0;34m.\u001b[0m\u001b[0m_info_axis\u001b[0m\u001b[0;34m.\u001b[0m\u001b[0m_can_hold_identifiers_and_holds_name\u001b[0m\u001b[0;34m(\u001b[0m\u001b[0mname\u001b[0m\u001b[0;34m)\u001b[0m\u001b[0;34m:\u001b[0m\u001b[0;34m\u001b[0m\u001b[0;34m\u001b[0m\u001b[0m\n\u001b[1;32m   5273\u001b[0m                 \u001b[0;32mreturn\u001b[0m \u001b[0mself\u001b[0m\u001b[0;34m[\u001b[0m\u001b[0mname\u001b[0m\u001b[0;34m]\u001b[0m\u001b[0;34m\u001b[0m\u001b[0;34m\u001b[0m\u001b[0m\n\u001b[0;32m-> 5274\u001b[0;31m             \u001b[0;32mreturn\u001b[0m \u001b[0mobject\u001b[0m\u001b[0;34m.\u001b[0m\u001b[0m__getattribute__\u001b[0m\u001b[0;34m(\u001b[0m\u001b[0mself\u001b[0m\u001b[0;34m,\u001b[0m \u001b[0mname\u001b[0m\u001b[0;34m)\u001b[0m\u001b[0;34m\u001b[0m\u001b[0;34m\u001b[0m\u001b[0m\n\u001b[0m\u001b[1;32m   5275\u001b[0m \u001b[0;34m\u001b[0m\u001b[0m\n\u001b[1;32m   5276\u001b[0m     \u001b[0;32mdef\u001b[0m \u001b[0m__setattr__\u001b[0m\u001b[0;34m(\u001b[0m\u001b[0mself\u001b[0m\u001b[0;34m,\u001b[0m \u001b[0mname\u001b[0m\u001b[0;34m:\u001b[0m \u001b[0mstr\u001b[0m\u001b[0;34m,\u001b[0m \u001b[0mvalue\u001b[0m\u001b[0;34m)\u001b[0m \u001b[0;34m->\u001b[0m \u001b[0;32mNone\u001b[0m\u001b[0;34m:\u001b[0m\u001b[0;34m\u001b[0m\u001b[0;34m\u001b[0m\u001b[0m\n",
      "\u001b[0;31mAttributeError\u001b[0m: 'Series' object has no attribute 'get_values'"
     ]
    }
   ],
   "source": [
    "table = TableDisplay(df)\n",
    "for field_name in name2ucd:\n",
    "    if name2ucd[field_name]=='pos.eq.ra;meta.main' or name2ucd[field_name]=='pos.eq.dec;meta.main':\n",
    "        table.addCellHighlighter(TableDisplayCellHighlighter.getHeatmapHighlighter(field_name, TableDisplayCellHighlighter.SINGLE_COLUMN))\n",
    "    elif name2ucd[field_name]=='src.redshift':\n",
    "                table.addCellHighlighter(TableDisplayCellHighlighter.getHeatmapHighlighter(field_name, TableDisplayCellHighlighter.SINGLE_COLUMN, df[field_name].min(), df[field_name].max(), Color.WHITE, Color.RED))\n",
    "    elif name2ucd[field_name].startswith('phot.mag'):\n",
    "        table.addCellHighlighter(TableDisplayCellHighlighter.getHeatmapHighlighter(field_name, TableDisplayCellHighlighter.SINGLE_COLUMN, df[field_name].min(), df[field_name].max(), Color.WHITE, Color.YELLOW))\n",
    "    elif name2ucd[field_name].startswith('phys.mass'):\n",
    "        table.addCellHighlighter(TableDisplayCellHighlighter.getHeatmapHighlighter(field_name, TableDisplayCellHighlighter.SINGLE_COLUMN, df[field_name].min(), df[field_name].max(), Color.WHITE, Color.GREEN))\n",
    "\n",
    "\n",
    "table"
   ]
  },
  {
   "cell_type": "markdown",
   "metadata": {},
   "source": [
    "## Compute and display self-correlation matrix"
   ]
  },
  {
   "cell_type": "code",
   "execution_count": 8,
   "metadata": {},
   "outputs": [
    {
     "data": {
      "text/plain": [
       "<AxesSubplot:>"
      ]
     },
     "execution_count": 8,
     "metadata": {},
     "output_type": "execute_result"
    },
    {
     "data": {
      "image/png": "[encoded data removed]",
      "text/plain": [
       "<Figure size 864x792 with 2 Axes>"
      ]
     },
     "metadata": {},
     "output_type": "display_data"
    }
   ],
   "source": [
    "plt.figure(figsize=(12, 11))\n",
    "sns.set()\n",
    "corr = df.corr()\n",
    "\n",
    "# plot the self-correlation matrix\n",
    "sns.heatmap(corr, \n",
    "        xticklabels=corr.columns,\n",
    "        yticklabels=corr.columns)"
   ]
  },
  {
   "cell_type": "markdown",
   "metadata": {},
   "source": [
    "## Interactive 2D scatter plot"
   ]
  },
  {
   "cell_type": "code",
   "execution_count": 9,
   "metadata": {
    "scrolled": false
   },
   "outputs": [
    {
     "data": {
      "application/vnd.jupyter.widget-view+json": {
       "model_id": "bf0e236db9404c769db32db5f8963312",
       "version_major": 2,
       "version_minor": 0
      },
      "text/plain": [
       "VBox(children=(FigureWidget({\n",
       "    'data': [{'mode': 'markers',\n",
       "              'type': 'scatter',\n",
       "              …"
      ]
     },
     "metadata": {},
     "output_type": "display_data"
    }
   ],
   "source": [
    "x_scatter = widgets.Dropdown(\n",
    "    options=numeric_columns,\n",
    "    value=numeric_columns[0],\n",
    "    description='X:'\n",
    ")\n",
    "y_scatter = widgets.Dropdown(\n",
    "    options=numeric_columns,\n",
    "    value=numeric_columns[1],\n",
    "    description='Y:'\n",
    ")\n",
    "color_col_values = numeric_columns.copy()\n",
    "color_col_values.insert(0, '<none>')\n",
    "color_choice = widgets.Dropdown(\n",
    "    options=color_col_values,\n",
    "    value='<none>',\n",
    "    description='Color by:'\n",
    ")\n",
    "\n",
    "opacity_slider = widgets.IntSlider(description='Opacity: ', value=100, continuous_update=False)\n",
    "\n",
    "axis_selector = widgets.HBox([x_scatter, y_scatter, color_choice])\n",
    "\n",
    "trace = go.Scatter(x=df[numeric_columns[0]], y=df[numeric_columns[1]], marker=dict(color= z, \n",
    "                      colorscale='Viridis', size=14, colorbar=dict(thickness=20))))\n",
    "g = go.FigureWidget(  data=trace,\n",
    "                      layout=go.Layout(\n",
    "                        title=dict(\n",
    "                            text='2D scatter'\n",
    "                        ),\n",
    "                        xaxis=dict(title=numeric_columns[0]), yaxis=dict(title=numeric_columns[1]),\n",
    "                        height=550\n",
    "                      )\n",
    "                    )\n",
    "\n",
    "def update_scatter(change):\n",
    "    g.data = []\n",
    "    marker={'opacity': opacity_slider.value/100.}\n",
    "    if color_choice.value != '<none>':\n",
    "        marker = dict(color=df[color_choice.value], colorscale='Viridis', showscale=True, opacity= opacity_slider.value/100.)\n",
    "    \n",
    "    trace = go.Scatter(x=df[x_scatter.value], y=df[y_scatter.value], mode='markers', marker=marker)\n",
    "    g.add_trace(trace)\n",
    "    g.layout.xaxis = {'title': x_scatter.value}\n",
    "    g.layout.yaxis = {'title': y_scatter.value}\n",
    "    \n",
    "def update_opacity(change):\n",
    "    with g.batch_update():\n",
    "        g.data[0].marker.opacity = opacity_slider.value/100.\n",
    "\n",
    "\n",
    "#    with g.batch_update():\n",
    "#            g.data = trace\n",
    "    \n",
    "\n",
    "x_scatter.observe(update_scatter, names=\"value\")\n",
    "y_scatter.observe(update_scatter, names=\"value\")\n",
    "color_choice.observe(update_scatter, names=\"value\")\n",
    "opacity_slider.observe(update_opacity, names=\"value\")\n",
    "    \n",
    "container = widgets.VBox([g, axis_selector, opacity_slider])\n",
    "container"
   ]
  },
  {
   "cell_type": "markdown",
   "metadata": {},
   "source": [
    "## SPLOM matrix"
   ]
  },
  {
   "cell_type": "code",
   "execution_count": null,
   "metadata": {},
   "outputs": [],
   "source": [
    "toggle_buttons= {}\n",
    "output = widgets.Output()\n",
    "\n",
    "k = 0\n",
    "for col in numeric_columns:\n",
    "    enabled = True\n",
    "    if k>5:\n",
    "        enabled=False\n",
    "    toggle_buttons[col] = widgets.ToggleButton(description=col, value=enabled)\n",
    "    k+=1\n",
    "\n",
    "update_splom_btn = widgets.Button(description='Update SPLOM')\n",
    "toggle_disp = widgets.VBox([widgets.HBox([toggle_buttons[k] for k in toggle_buttons.keys()]), update_splom_btn, output])\n",
    "\n",
    "cmap = sns.cubehelix_palette(as_cmap=True, dark=0, light=1, reverse=True)\n",
    "def plot_splom(col_list):\n",
    "    output.clear_output(wait=True)\n",
    "\n",
    "    with output:\n",
    "        (df[col_list].select_dtypes(include=[np.number])\n",
    "       .pipe(sns.PairGrid)\n",
    "       .map_upper(plt.scatter, marker='.', alpha=.25)\n",
    "       .map_diag(sns.kdeplot)\n",
    "       .map_lower(plt.hexbin, cmap=cmap, gridsize=20)\n",
    "        );\n",
    "\n",
    "def on_update_splom_btn(b):\n",
    "    columns_to_keep = []\n",
    "    for k in toggle_buttons:\n",
    "        if toggle_buttons[k].value==True:\n",
    "            columns_to_keep.append(k)\n",
    "            \n",
    "    plot_splom(columns_to_keep)\n",
    "\n",
    "update_splom_btn.on_click(on_update_splom_btn)\n",
    "\n",
    "display(toggle_disp)\n",
    "on_update_splom_btn(update_splom_btn)\n"
   ]
  },
  {
   "cell_type": "markdown",
   "metadata": {},
   "source": [
    "## Visualize table in ipyaladin"
   ]
  },
  {
   "cell_type": "code",
   "execution_count": null,
   "metadata": {},
   "outputs": [],
   "source": [
    "a = Aladin(target='{} {}'.format(df['RAJ2000'].iloc[0], df['DEJ2000'].iloc[0]), fov=1)\n",
    "a"
   ]
  },
  {
   "cell_type": "code",
   "execution_count": null,
   "metadata": {},
   "outputs": [],
   "source": [
    "a.add_table(t)"
   ]
  },
  {
   "cell_type": "code",
   "execution_count": null,
   "metadata": {},
   "outputs": [],
   "source": []
  }
 ],
 "metadata": {
  "kernelspec": {
   "display_name": "Python 3",
   "language": "python",
   "name": "python3"
  },
  "language_info": {
   "codemirror_mode": {
    "name": "ipython",
    "version": 3
   },
   "file_extension": ".py",
   "mimetype": "text/x-python",
   "name": "python",
   "nbconvert_exporter": "python",
   "pygments_lexer": "ipython3",
   "version": "3.6.7"
  },
  "toc": {
   "base_numbering": 1,
   "nav_menu": {},
   "number_sections": false,
   "sideBar": false,
   "skip_h1_title": false,
   "title_cell": "Table of Contents",
   "title_sidebar": "Contents",
   "toc_cell": false,
   "toc_position": {},
   "toc_section_display": false,
   "toc_window_display": false
  }
 },
 "nbformat": 4,
 "nbformat_minor": 2
}
