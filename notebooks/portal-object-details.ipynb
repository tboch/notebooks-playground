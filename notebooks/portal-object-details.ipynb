{
 "cells": [
  {
   "cell_type": "markdown",
   "metadata": {},
   "source": [
    "## Initial imports and setup"
   ]
  },
  {
   "cell_type": "code",
   "execution_count": null,
   "metadata": {},
   "outputs": [],
   "source": [
    "from astropy.coordinates import SkyCoord\n",
    "from astropy import coordinates\n",
    "from astropy.io import fits, votable\n",
    "from ipyaladin import Aladin\n",
    "from urllib.parse import urlparse, parse_qs, quote\n",
    "from astroquery.cds import cds\n",
    "from astroquery.simbad import Simbad\n",
    "from regions import CircleSkyRegion\n",
    "from astropy.visualization import (MinMaxInterval, PercentileInterval, SqrtStretch, AsinhStretch,\n",
    "                                   ImageNormalize)\n",
    "import matplotlib.pyplot as plt\n",
    "import seaborn as sns\n",
    "import pyvo as vo\n",
    "\n",
    "import warnings\n",
    "warnings.simplefilter(\"ignore\")\n",
    "\n",
    "%matplotlib inline"
   ]
  },
  {
   "cell_type": "markdown",
   "metadata": {},
   "source": [
    "## Retrieve parameters from query string"
   ]
  },
  {
   "cell_type": "code",
   "execution_count": 150,
   "metadata": {},
   "outputs": [],
   "source": [
    "# Parameters:"
   ]
  },
  {
   "cell_type": "code",
   "execution_count": null,
   "metadata": {},
   "outputs": [],
   "source": [
    "%%javascript\n",
    "IPython.notebook.kernel.execute(\"notebook_url = '\" + window.location + \"'\");\n"
   ]
  },
  {
   "cell_type": "code",
   "execution_count": null,
   "metadata": {},
   "outputs": [],
   "source": [
    "query = urlparse(notebook_url).query\n",
    "#object_name = params['object']\n",
    "params = parse_qs(query)\n",
    "object_name = params.get('object')\n",
    "if object_name is None:\n",
    "    print('object parameter has not been found in URL!')\n",
    "else:\n",
    "    object_name = object_name[0]\n",
    "    print(f'Let\\'s study {object_name}')"
   ]
  },
  {
   "cell_type": "markdown",
   "metadata": {},
   "source": [
    "## Retrieve object coordinates"
   ]
  },
  {
   "cell_type": "code",
   "execution_count": null,
   "metadata": {},
   "outputs": [],
   "source": [
    "sc = SkyCoord.from_name(object_name)\n",
    "sc"
   ]
  },
  {
   "cell_type": "markdown",
   "metadata": {},
   "source": [
    "## Retrieve basic information from SIMBAD"
   ]
  },
  {
   "cell_type": "code",
   "execution_count": null,
   "metadata": {},
   "outputs": [],
   "source": [
    "Simbad.reset_votable_fields()\n",
    "Simbad.add_votable_fields('pmra', 'pmdec', 'plx', 'flux(B)', 'flux(V)')\n",
    "Simbad.query_object(object_name)\n",
    "#Simbad.list_votable_fields()"
   ]
  },
  {
   "cell_type": "markdown",
   "metadata": {},
   "source": [
    "## List of identifiers"
   ]
  },
  {
   "cell_type": "code",
   "execution_count": null,
   "metadata": {},
   "outputs": [],
   "source": [
    "Simbad.query_objectids(object_name)"
   ]
  },
  {
   "cell_type": "markdown",
   "metadata": {},
   "source": [
    "## Retrieve list of published papers citing this object"
   ]
  },
  {
   "cell_type": "code",
   "execution_count": null,
   "metadata": {},
   "outputs": [],
   "source": [
    "query = \"\"\"SELECT BIBCode, Journal, Title, \"year\", Volume, Page || '-' || Last_Page AS \"Pages\", DOI\n",
    "              FROM ref JOIN has_ref ON oidbibref = oidbib JOIN ident ON has_ref.oidref = ident.oidref\n",
    "              WHERE id = '{}'\n",
    "              ORDER BY \"year\" DESC\"\"\".format(object_name)\n",
    "query = query.replace('\\n', '')\n",
    "\n",
    "tap_service = vo.dal.TAPService('https://simbad.u-strasbg.fr/simbad/sim-tap')\n",
    "tap_results = tap_service.search(query)\n",
    "tap_results"
   ]
  },
  {
   "cell_type": "markdown",
   "metadata": {},
   "source": [
    "## Make FITS cutouts centered on the region (calling hips2fits)"
   ]
  },
  {
   "cell_type": "code",
   "execution_count": null,
   "metadata": {},
   "outputs": [],
   "source": [
    "hips_list = ['DSS2/red', '2MASS/K', 'PanSTARRS/DR1/g', 'AllWISE/W4']\n",
    "fig, axs = plt.subplots(1, len(hips_list), figsize=(4 * len(hips_list), 3), facecolor='w', edgecolor='k')\n",
    "fig.subplots_adjust(hspace = .2, wspace=.001)\n",
    "\n",
    "axs = axs.ravel()\n",
    "\n",
    "i = 0\n",
    "im_width = im_height = 150\n",
    "fov = 0.2\n",
    "for hips in hips_list:\n",
    "    axs[i].set_axis_off()\n",
    "\n",
    "    axs[i].set_title('{} - {}'.format(object_name, hips))\n",
    "\n",
    "    url = 'http://alasky.u-strasbg.fr/hips-image-services/hips2fits?hips={}&width={}&height={}&fov={}&projection=TAN&coordsys=icrs&ra={}&dec={}'.format(quote(hips), im_width, im_height, fov, sc.icrs.ra.deg, sc.icrs.dec.deg)\n",
    "    \n",
    "    hdu = fits.open(url)\n",
    "        \n",
    "    im = hdu[0].data\n",
    "    norm = ImageNormalize(im, interval=MinMaxInterval(),\n",
    "                  stretch=AsinhStretch())\n",
    "    axs[i].imshow(im, cmap='magma', norm=norm, origin='lower')\n",
    "        \n",
    "    i += 1"
   ]
  },
  {
   "cell_type": "markdown",
   "metadata": {},
   "source": [
    "## Display object in ipyaladin"
   ]
  },
  {
   "cell_type": "code",
   "execution_count": null,
   "metadata": {},
   "outputs": [],
   "source": [
    "al = Aladin(target=object_name, fov=0.4)\n",
    "al"
   ]
  },
  {
   "cell_type": "markdown",
   "metadata": {},
   "source": [
    "## Query the MocServer to find catalogues available in the vicinity of the region"
   ]
  },
  {
   "cell_type": "code",
   "execution_count": null,
   "metadata": {
    "scrolled": true
   },
   "outputs": [],
   "source": [
    "r = cds.query_region(CircleSkyRegion(sc, coordinates.Angle(0.1, unit='deg')), fields=('ID', 'dataproduct_type','cs_service_url'))\n",
    "catalogs = r[r['dataproduct_type']=='catalog']\n",
    "catalogs"
   ]
  },
  {
   "cell_type": "markdown",
   "metadata": {},
   "source": [
    "## Retrieve photometric points"
   ]
  },
  {
   "cell_type": "code",
   "execution_count": null,
   "metadata": {},
   "outputs": [],
   "source": [
    "photometry_points_url = 'http://vizier.u-strasbg.fr/viz-bin/sed?-c={}&-c.rs=3'.format(quote(object_name))\n",
    "phot_result = votable.parse_single_table(photometry_points_url).to_table()"
   ]
  },
  {
   "cell_type": "code",
   "execution_count": null,
   "metadata": {},
   "outputs": [],
   "source": [
    "plt.figure(figsize=(12, 8))\n",
    "sns.set()\n",
    "\n",
    "c = 3e8\n",
    "#plt.scatter(x=phot_result['sed_freq'], y=phot_result['sed_flux'])\n",
    "splot = sns.scatterplot(x=c/phot_result['sed_freq'], y=phot_result['sed_freq']*phot_result['sed_flux'])\n",
    "                    \n",
    "splot.set(xscale=\"log\")\n",
    "splot.set(yscale=\"log\")\n",
    "splot.set(xlabel='λ', ylabel='nu.F_nu')\n"
   ]
  },
  {
   "cell_type": "markdown",
   "metadata": {},
   "source": [
    "## Are there associated VizieR data available?"
   ]
  },
  {
   "cell_type": "code",
   "execution_count": null,
   "metadata": {},
   "outputs": [],
   "source": [
    "query = \"SELECT TOP 500 * FROM obscore WHERE 1=CONTAINS(POINT('ICRS', s_ra, s_dec),CIRCLE('ICRS',{}, {}, 0.5))\".format(sc.icrs.ra.deg, sc.icrs.dec.deg)\n",
    "\n",
    "tap_service = vo.dal.TAPService('http://cdsarc.u-strasbg.fr/saadavizier.tap/tap')\n",
    "tap_results = tap_service.search(query)\n",
    "tap_results.to_table()"
   ]
  },
  {
   "cell_type": "code",
   "execution_count": null,
   "metadata": {},
   "outputs": [],
   "source": []
  }
 ],
 "metadata": {
  "kernelspec": {
   "display_name": "Python 3",
   "language": "python",
   "name": "python3"
  },
  "language_info": {
   "codemirror_mode": {
    "name": "ipython",
    "version": 3
   },
   "file_extension": ".py",
   "mimetype": "text/x-python",
   "name": "python",
   "nbconvert_exporter": "python",
   "pygments_lexer": "ipython3",
   "version": "3.6.7"
  }
 },
 "nbformat": 4,
 "nbformat_minor": 2
}
