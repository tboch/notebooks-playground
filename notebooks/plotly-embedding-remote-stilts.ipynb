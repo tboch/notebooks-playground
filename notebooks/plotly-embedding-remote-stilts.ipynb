{
 "cells": [
  {
   "cell_type": "code",
   "execution_count": 12,
   "metadata": {},
   "outputs": [],
   "source": [
    "# quote URL param\n",
    "from urllib.parse import quote"
   ]
  },
  {
   "cell_type": "code",
   "execution_count": 27,
   "metadata": {},
   "outputs": [],
   "source": [
    "x_range=[-1, 7]\n",
    "y_range=[-1, 17]\n",
    "plot_height=700\n",
    "plot_width=900"
   ]
  },
  {
   "cell_type": "code",
   "execution_count": 36,
   "metadata": {},
   "outputs": [],
   "source": [
    "import plotly.graph_objs as go\n",
    "\n",
    "f = go.FigureWidget(data=[{'x': x_range,\n",
    "                           'y': y_range,\n",
    "                           'mode': 'markers',\n",
    "                           'marker': {'opacity': 0}}], # invisible trace to init axes and to support autoresize\n",
    "                    layout={'width': plot_width, 'height': plot_height})\n",
    "f.update_xaxes(gridcolor='rgba(220, 220, 220, 0.5)')\n",
    "f.update_yaxes(autorange=\"reversed\", gridcolor='rgba(220, 220, 220, 0.5)')\n",
    "\n",
    "import random\n",
    "def get_url(x_range, y_range, width, height):\n",
    "    x_min = x_range[0]\n",
    "    x_max = x_range[1]\n",
    "    \n",
    "    y_min = min(y_range)\n",
    "    y_max = max(y_range)\n",
    "\n",
    "    stilts_url  = 'http://andromeda.star.bristol.ac.uk:8081/plotserv/plot/img/plot2plane'\n",
    "    stilts_url += '&xpix={}&ypix={}&in=hrd-100pc.fits&insets=0,0,0,0'.format(width, height)\n",
    "    stilts_url += '&xmin={}&xmax={}&ymin={}&ymax={}'.format(x_min, x_max, y_min, y_max)\n",
    "    stilts_url += '&yflip=true&icmd=select+astrometric_excess_noise%3C1&icmd=select+phot_bp_rp_excess_factor%3CpolyLine(bp_rp%2C-0.56%2C1.307%2C0.03%2C1.192%2C1.51%2C1.295%2C4.31%2C1.808)&layer1=mark&x1=bp_rp&y1=phot_g_mean_mag%2B5*log10(parallax/100)&shading1=density&densemap1=plasma'\n",
    " \n",
    "    stilts_url += '?sessionId={}'.format(random.randint(0, 1e15))\n",
    "    return 'http://alasky.u-strasbg.fr/cgi/JSONProxy?url={}'.format(quote(stilts_url))\n",
    "    \n",
    "f.layout.images = [go.layout.Image(\n",
    "    source = get_url(x_range, y_range, plot_width, plot_height),\n",
    "    xref = \"x\",\n",
    "    yref = \"y\",\n",
    "    x = x_range[0],\n",
    "    y = y_range[1],\n",
    "    sizex = x_range[1] - x_range[0],\n",
    "    sizey = y_range[1] - y_range[0],\n",
    "    sizing = \"stretch\",\n",
    "    layer = \"below\")]  \n",
    "\n",
    "from PIL import Image\n",
    "import requests\n",
    "from io import BytesIO\n",
    "\n",
    "\n",
    "\n",
    "def update_ds_image(layout, x_range, y_range, plot_width, plot_height):\n",
    "    img = f.layout.images[0]\n",
    "\n",
    "    # Update with batch_update so all updates happen simultaneously\n",
    "    with f.batch_update():\n",
    "        response = requests.get(get_url(x_range, y_range, plot_width, plot_height))\n",
    "        img.source = Image.open(BytesIO(response.content))\n",
    "#        img.source = get_url(x_range, y_range, plot_width, plot_height) # ==> this does not work properly and makes the plot flicker\n",
    "\n",
    "        img.sizex = x_range[1] - x_range[0]\n",
    "        img.sizey = y_range[1] - y_range[0]\n",
    "        img.x = x_range[0]\n",
    "        img.y = y_range[1]\n",
    "\n",
    "# Install callback to run exactly once if one or more of the following properties changes\n",
    "#  - xaxis range\n",
    "#  - yaxis range\n",
    "#  - figure width\n",
    "#  - figure height\n",
    "f.layout.on_change(update_ds_image, 'xaxis.range', 'yaxis.range', 'width', 'height')"
   ]
  },
  {
   "cell_type": "code",
   "execution_count": 37,
   "metadata": {},
   "outputs": [
    {
     "data": {
      "application/vnd.jupyter.widget-view+json": {
       "model_id": "9a6e2f238e374ea18efd0b2ec1ea9bbd",
       "version_major": 2,
       "version_minor": 0
      },
      "text/plain": [
       "FigureWidget({\n",
       "    'data': [{'marker': {'opacity': 0},\n",
       "              'mode': 'markers',\n",
       "              'type': …"
      ]
     },
     "metadata": {},
     "output_type": "display_data"
    }
   ],
   "source": [
    "f"
   ]
  },
  {
   "cell_type": "code",
   "execution_count": null,
   "metadata": {},
   "outputs": [],
   "source": []
  }
 ],
 "metadata": {
  "kernelspec": {
   "display_name": "Python 3",
   "language": "python",
   "name": "python3"
  },
  "language_info": {
   "codemirror_mode": {
    "name": "ipython",
    "version": 3
   },
   "file_extension": ".py",
   "mimetype": "text/x-python",
   "name": "python",
   "nbconvert_exporter": "python",
   "pygments_lexer": "ipython3",
   "version": "3.6.7"
  },
  "toc": {
   "base_numbering": 1,
   "nav_menu": {},
   "number_sections": false,
   "sideBar": false,
   "skip_h1_title": false,
   "title_cell": "Table of Contents",
   "title_sidebar": "Contents",
   "toc_cell": false,
   "toc_position": {},
   "toc_section_display": false,
   "toc_window_display": false
  }
 },
 "nbformat": 4,
 "nbformat_minor": 2
}
