{
 "cells": [
  {
   "cell_type": "code",
   "execution_count": 7,
   "metadata": {},
   "outputs": [],
   "source": [
    "from astroquery.utils.tap.core import Tap\n",
    "from astropy.io import ascii"
   ]
  },
  {
   "cell_type": "code",
   "execution_count": 8,
   "metadata": {},
   "outputs": [],
   "source": [
    "upload_resource = ascii.read('sample-tableb2.pos')"
   ]
  },
  {
   "cell_type": "code",
   "execution_count": 10,
   "metadata": {},
   "outputs": [
    {
     "name": "stdout",
     "output_type": "stream",
     "text": [
      "Launched query: 'SELECT  TOP 2000  tm.\"2MASS\", tm.RAJ2000, tm.DEJ2000, ra, dec    FROM \"II/246/out\" as tm, tap_upload    WHERE 1=CONTAINS(POINT('ICRS', ra, dec), CIRCLE('ICRS', RAJ2000, DEJ2000, 0.2/3600)) '\n",
      "------>http\n",
      "host = tapvizier.u-strasbg.fr:80\n",
      "context = /TAPVizieR/tap/sync\n",
      "Content-type = multipart/form-data; boundary====1601451032267===\n",
      "200 200\n",
      "[('Date', 'Wed, 30 Sep 2020 07:30:32 GMT'), ('Server', 'Apache/2.4.29 (Ubuntu) mod_jk/1.2.43'), ('Vary', 'Accept-Encoding'), ('Access-Control-Allow-Origin', '*'), ('Connection', 'close'), ('Transfer-Encoding', 'chunked'), ('Content-Type', 'text/xml;charset=UTF-8')]\n",
      "Retrieving sync. results...\n",
      "Query finished.\n"
     ]
    }
   ],
   "source": [
    "tap = Tap(url=\"http://tapvizier.u-strasbg.fr/TAPVizieR/tap\")\n",
    "\n",
    "query = 'SELECT  tm.\"2MASS\", tm.RAJ2000, tm.DEJ2000, ra, dec \\\n",
    "   FROM \"II/246/out\" as tm, tap_upload \\\n",
    "   WHERE 1=CONTAINS(POINT(\\'ICRS\\', ra, dec), CIRCLE(\\'ICRS\\', RAJ2000, DEJ2000, 0.2/3600)) '\n",
    "\n",
    "job = tap.launch_job(query=query, upload_resource=upload_resource, upload_table_name=\"tap_upload\", verbose=True)\n",
    "\n"
   ]
  },
  {
   "cell_type": "code",
   "execution_count": 11,
   "metadata": {},
   "outputs": [
    {
     "data": {
      "text/html": [
       "<i>Table length=2000</i>\n",
       "<table id=\"table4733030472\" class=\"table-striped table-bordered table-condensed\">\n",
       "<thead><tr><th>2MASS</th><th>RAJ2000</th><th>DEJ2000</th><th>ra</th><th>dec</th></tr></thead>\n",
       "<thead><tr><th></th><th>deg</th><th>deg</th><th></th><th></th></tr></thead>\n",
       "<thead><tr><th>bytes17</th><th>float64</th><th>float64</th><th>float64</th><th>float64</th></tr></thead>\n",
       "<tr><td>21353892+4229507</td><td>323.912177</td><td>42.497429</td><td>323.91217</td><td>42.49742</td></tr>\n",
       "<tr><td>21354775+4233120</td><td>323.94896</td><td>42.55336</td><td>323.94896</td><td>42.55333</td></tr>\n",
       "<tr><td>21360285+4231145</td><td>324.011891</td><td>42.520695</td><td>324.01187</td><td>42.52069</td></tr>\n",
       "<tr><td>21360302+4250260</td><td>324.012623</td><td>42.840572</td><td>324.01258</td><td>42.84056</td></tr>\n",
       "<tr><td>21360555+4246043</td><td>324.023127</td><td>42.767879</td><td>324.02312</td><td>42.76786</td></tr>\n",
       "<tr><td>21360822+4225525</td><td>324.03425</td><td>42.431259</td><td>324.03425</td><td>42.43125</td></tr>\n",
       "<tr><td>21360941+4212409</td><td>324.039217</td><td>42.211384</td><td>324.03921</td><td>42.21136</td></tr>\n",
       "<tr><td>21361159+4255425</td><td>324.048332</td><td>42.928478</td><td>324.04829</td><td>42.92847</td></tr>\n",
       "<tr><td>21361290+4216213</td><td>324.053786</td><td>42.272594</td><td>324.05375</td><td>42.27258</td></tr>\n",
       "<tr><td>...</td><td>...</td><td>...</td><td>...</td><td>...</td></tr>\n",
       "<tr><td>04403048+5641244</td><td>70.127027</td><td>56.690125</td><td>70.127</td><td>56.69011</td></tr>\n",
       "<tr><td>04403138+5849030</td><td>70.130759</td><td>58.817513</td><td>70.13075</td><td>58.8175</td></tr>\n",
       "<tr><td>04403249+5709238</td><td>70.13538</td><td>57.156631</td><td>70.13537</td><td>57.15661</td></tr>\n",
       "<tr><td>04404243+5642037</td><td>70.176798</td><td>56.701031</td><td>70.17679</td><td>56.70103</td></tr>\n",
       "<tr><td>04404647+5749430</td><td>70.193646</td><td>57.828621</td><td>70.19362</td><td>57.82861</td></tr>\n",
       "<tr><td>04405180+5644146</td><td>70.215857</td><td>56.737411</td><td>70.21583</td><td>56.73739</td></tr>\n",
       "<tr><td>04405376+5729325</td><td>70.224018</td><td>57.492378</td><td>70.224</td><td>57.49236</td></tr>\n",
       "<tr><td>04405725+5755475</td><td>70.238549</td><td>57.929863</td><td>70.23854</td><td>57.92986</td></tr>\n",
       "<tr><td>04410748+5808538</td><td>70.281184</td><td>58.148293</td><td>70.28117</td><td>58.14828</td></tr>\n",
       "<tr><td>04410890+5912321</td><td>70.287114</td><td>59.208923</td><td>70.28708</td><td>59.20892</td></tr>\n",
       "</table>"
      ],
      "text/plain": [
       "<Table length=2000>\n",
       "     2MASS        RAJ2000    DEJ2000      ra      dec   \n",
       "                    deg        deg                      \n",
       "    bytes17       float64    float64   float64  float64 \n",
       "---------------- ---------- --------- --------- --------\n",
       "21353892+4229507 323.912177 42.497429 323.91217 42.49742\n",
       "21354775+4233120  323.94896  42.55336 323.94896 42.55333\n",
       "21360285+4231145 324.011891 42.520695 324.01187 42.52069\n",
       "21360302+4250260 324.012623 42.840572 324.01258 42.84056\n",
       "21360555+4246043 324.023127 42.767879 324.02312 42.76786\n",
       "21360822+4225525  324.03425 42.431259 324.03425 42.43125\n",
       "21360941+4212409 324.039217 42.211384 324.03921 42.21136\n",
       "21361159+4255425 324.048332 42.928478 324.04829 42.92847\n",
       "21361290+4216213 324.053786 42.272594 324.05375 42.27258\n",
       "             ...        ...       ...       ...      ...\n",
       "04403048+5641244  70.127027 56.690125    70.127 56.69011\n",
       "04403138+5849030  70.130759 58.817513  70.13075  58.8175\n",
       "04403249+5709238   70.13538 57.156631  70.13537 57.15661\n",
       "04404243+5642037  70.176798 56.701031  70.17679 56.70103\n",
       "04404647+5749430  70.193646 57.828621  70.19362 57.82861\n",
       "04405180+5644146  70.215857 56.737411  70.21583 56.73739\n",
       "04405376+5729325  70.224018 57.492378    70.224 57.49236\n",
       "04405725+5755475  70.238549 57.929863  70.23854 57.92986\n",
       "04410748+5808538  70.281184 58.148293  70.28117 58.14828\n",
       "04410890+5912321  70.287114 59.208923  70.28708 59.20892"
      ]
     },
     "execution_count": 11,
     "metadata": {},
     "output_type": "execute_result"
    }
   ],
   "source": [
    "job.results"
   ]
  },
  {
   "cell_type": "code",
   "execution_count": null,
   "metadata": {},
   "outputs": [],
   "source": []
  }
 ],
 "metadata": {
  "kernelspec": {
   "display_name": "Python 3",
   "language": "python",
   "name": "python3"
  },
  "language_info": {
   "codemirror_mode": {
    "name": "ipython",
    "version": 3
   },
   "file_extension": ".py",
   "mimetype": "text/x-python",
   "name": "python",
   "nbconvert_exporter": "python",
   "pygments_lexer": "ipython3",
   "version": "3.6.7"
  },
  "toc": {
   "base_numbering": 1,
   "nav_menu": {},
   "number_sections": false,
   "sideBar": false,
   "skip_h1_title": false,
   "title_cell": "Table of Contents",
   "title_sidebar": "Contents",
   "toc_cell": false,
   "toc_position": {},
   "toc_section_display": false,
   "toc_window_display": false
  }
 },
 "nbformat": 4,
 "nbformat_minor": 2
}
