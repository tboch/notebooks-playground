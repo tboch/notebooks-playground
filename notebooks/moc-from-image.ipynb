{
 "cells": [
  {
   "cell_type": "code",
   "execution_count": 23,
   "id": "f798def1",
   "metadata": {},
   "outputs": [],
   "source": [
    "from mocpy import MOC\n",
    "from PIL import Image\n",
    "import numpy as np \n",
    "from ipyaladin import Aladin\n",
    "import cdshealpix\n",
    "from astropy import wcs\n",
    "from astropy.coordinates import Longitude, Latitude\n",
    "from astropy.coordinates import SkyCoord\n",
    "import astropy.units as u\n",
    "import cdshealpix\n",
    "import requests\n",
    "from io import BytesIO\n",
    "\n",
    "depth = 10"
   ]
  },
  {
   "cell_type": "code",
   "execution_count": 40,
   "id": "c96c487b",
   "metadata": {},
   "outputs": [],
   "source": [
    "im_url = 'https://www.acrola.fr/wp-content/uploads/2021/06/cigogne-atterissage-bis-1536x993.jpg'\n",
    "\n",
    "response = requests.get(im_url)\n",
    "im = Image.open(BytesIO(response.content))\n",
    "im = np.fliplr(np.swapaxes(im,0,1))"
   ]
  },
  {
   "cell_type": "code",
   "execution_count": 41,
   "id": "ec97259e",
   "metadata": {},
   "outputs": [],
   "source": [
    "\n",
    "w = wcs.WCS(naxis=2)\n",
    "\n",
    "w.wcs.crpix = [im.shape[1], 0]\n",
    "w.wcs.cdelt = np.array([-40/np.max(im.shape), 40/np.max(im.shape)])\n",
    "w.wcs.crval = [0, 0]\n",
    "w.wcs.ctype = [\"GLON-SIN\", \"GLAT-SIN\"]"
   ]
  },
  {
   "cell_type": "code",
   "execution_count": 42,
   "id": "a26c322f",
   "metadata": {},
   "outputs": [],
   "source": [
    "white = np.where(im < 64)\n",
    "gray_light = np.where((im>=64) & (im<=127))\n",
    "gray_dark = np.where((im>=127) & (im<=192))\n",
    "black = np.where(im>192)"
   ]
  },
  {
   "cell_type": "code",
   "execution_count": 43,
   "id": "d9994dee",
   "metadata": {},
   "outputs": [],
   "source": [
    "def create_moc(world_coo, output):\n",
    "    global depth\n",
    "    \n",
    "    sc = SkyCoord(world_coo[0], world_coo[1], unit='deg', frame='galactic')\n",
    "    \n",
    "    lon = Longitude(sc.icrs.ra.degree, u.deg)\n",
    "    lat = Latitude(sc.icrs.dec.degree, u.deg)\n",
    "    \n",
    "    ipix = cdshealpix.lonlat_to_healpix(lon, lat, depth)\n",
    "    \n",
    "    \n",
    "    moc = MOC.from_healpix_cells(ipix, np.repeat(depth, ipix.shape[0]), depth)\n",
    "    \n",
    "    return moc\n"
   ]
  },
  {
   "cell_type": "code",
   "execution_count": 44,
   "id": "57d4ef7e",
   "metadata": {},
   "outputs": [],
   "source": [
    "\n",
    "world_white = w.wcs_pix2world(white[0], white[1], 1)\n",
    "world_gray_light = w.wcs_pix2world(gray_light[0], gray_light[1], 1)\n",
    "world_gray_dark = w.wcs_pix2world(gray_dark[0], gray_dark[1], 1)\n",
    "world_black = w.wcs_pix2world(black[0], black[1], 1)"
   ]
  },
  {
   "cell_type": "code",
   "execution_count": 45,
   "id": "9a054f22",
   "metadata": {},
   "outputs": [],
   "source": [
    "white = create_moc(world_white, 'white.fits')\n",
    "gray_light = create_moc(world_gray_light, 'gray_light.fits')\n",
    "gray_dark = create_moc(world_gray_dark, 'gray_dark.fits')\n",
    "black = create_moc(world_black, 'black.fits')\n"
   ]
  },
  {
   "cell_type": "code",
   "execution_count": 56,
   "id": "79029d86",
   "metadata": {},
   "outputs": [
    {
     "data": {
      "application/vnd.jupyter.widget-view+json": {
       "model_id": "3ebd10d91aba410abca4935532b29b47",
       "version_major": 2,
       "version_minor": 0
      },
      "text/plain": [
       "Aladin(coo_frame='galactic', fov=50.0, options=['allow_full_zoomout', 'coo_frame', 'fov', 'full_screen', 'log'…"
      ]
     },
     "metadata": {},
     "output_type": "display_data"
    }
   ],
   "source": [
    "a = Aladin(survey='Mellinger', coo_frame='galactic', fov= 50, target= \"6 +12\")\n",
    "a"
   ]
  },
  {
   "cell_type": "code",
   "execution_count": 57,
   "id": "387bd335",
   "metadata": {},
   "outputs": [],
   "source": [
    "a.add_moc_from_dict(white.serialize(\"json\"), {\"color\": \"white\", \"opacity\": 0.5})\n",
    "a.add_moc_from_dict(black.serialize(\"json\"), {\"color\": \"black\", \"opacity\": 0.5})\n",
    "a.add_moc_from_dict(gray_light.serialize(\"json\"), {\"color\": \"lightGray\", \"opacity\": 0.5})\n",
    "a.add_moc_from_dict(gray_dark.serialize(\"json\"), {\"color\": \"darkGray\", \"opacity\": 0.5})"
   ]
  },
  {
   "cell_type": "code",
   "execution_count": 11,
   "id": "78bcc8f4",
   "metadata": {},
   "outputs": [
    {
     "data": {
      "text/plain": [
       "10"
      ]
     },
     "execution_count": 11,
     "metadata": {},
     "output_type": "execute_result"
    }
   ],
   "source": [
    "white.max_order\n"
   ]
  },
  {
   "cell_type": "code",
   "execution_count": null,
   "id": "83a900c7",
   "metadata": {},
   "outputs": [],
   "source": []
  }
 ],
 "metadata": {
  "kernelspec": {
   "display_name": "Python 3 (ipykernel)",
   "language": "python",
   "name": "python3"
  },
  "language_info": {
   "codemirror_mode": {
    "name": "ipython",
    "version": 3
   },
   "file_extension": ".py",
   "mimetype": "text/x-python",
   "name": "python",
   "nbconvert_exporter": "python",
   "pygments_lexer": "ipython3",
   "version": "3.9.16"
  }
 },
 "nbformat": 4,
 "nbformat_minor": 5
}
