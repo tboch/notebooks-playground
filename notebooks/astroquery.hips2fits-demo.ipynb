{
 "cells": [
  {
   "cell_type": "code",
   "execution_count": null,
   "id": "b0f86623",
   "metadata": {},
   "outputs": [],
   "source": [
    "from astroquery.hips2fits import hips2fits\n",
    "import matplotlib.pyplot as plt\n",
    "from matplotlib.colors import Colormap\n",
    "from astropy import wcs\n",
    "from astropy.io import fits\n",
    "import aplpy"
   ]
  },
  {
   "cell_type": "code",
   "execution_count": null,
   "id": "bec31c2f",
   "metadata": {},
   "outputs": [],
   "source": [
    "fig = aplpy.FITSFigure('omc3-spitzer.fits')\n",
    "fig.show_grayscale()\n",
    "fig.add_grid()\n"
   ]
  },
  {
   "cell_type": "code",
   "execution_count": null,
   "id": "51a6faeb",
   "metadata": {},
   "outputs": [],
   "source": [
    "# extract WCS object from local FITS file\n",
    "hdu = fits.open('omc3-spitzer.fits')\n",
    "spitzer_data = hdu[0].data\n",
    "spitzer_wcs = wcs.WCS(hdu[0].header)\n",
    "\n",
    "spitzer_wcs"
   ]
  },
  {
   "cell_type": "code",
   "execution_count": null,
   "id": "6248f328",
   "metadata": {},
   "outputs": [],
   "source": [
    "# retrieve AllWISE W4 cutout from HiPS2FITS\n",
    "hips = 'CDS/P/allWISE/W4'\n",
    "allwise_fits = hips2fits.query_with_wcs(\n",
    "   hips=hips,\n",
    "   wcs=spitzer_wcs,\n",
    "   get_query_payload=False,\n",
    "   format='fits'\n",
    ")\n"
   ]
  },
  {
   "cell_type": "code",
   "execution_count": null,
   "id": "845510ab",
   "metadata": {},
   "outputs": [],
   "source": [
    "# check result type\n",
    "allwise_fits"
   ]
  },
  {
   "cell_type": "code",
   "execution_count": null,
   "id": "2e772fe0",
   "metadata": {},
   "outputs": [],
   "source": [
    "# Display generated cutout\n",
    "fig = aplpy.FITSFigure(allwise_fits)\n",
    "\n",
    "fig.show_grayscale()"
   ]
  },
  {
   "cell_type": "code",
   "execution_count": null,
   "id": "ca8b84ad",
   "metadata": {},
   "outputs": [],
   "source": [
    "allwise_fits.writeto('omc3-allwise.fits', overwrite=True)"
   ]
  },
  {
   "cell_type": "code",
   "execution_count": null,
   "id": "28680d6f",
   "metadata": {},
   "outputs": [],
   "source": [
    "# retrieve MSX C cutout from HiPS2FITS\n",
    "hips = 'CDS/P/MSX/C'\n",
    "msx_fits = hips2fits.query_with_wcs(\n",
    "   hips=hips,\n",
    "   wcs=spitzer_wcs,\n",
    "   get_query_payload=False,\n",
    "   format='fits'\n",
    ")\n",
    "msx_fits.writeto('omc3-MSX.fits', overwrite=True)"
   ]
  },
  {
   "cell_type": "code",
   "execution_count": null,
   "id": "e5b4fa35",
   "metadata": {},
   "outputs": [],
   "source": [
    "# retrieve AKARI FIS WideS cutout from HiPS2FITS\n",
    "hips = 'CDS/P/AKARI/FIS/WideS'\n",
    "akari_fits = hips2fits.query_with_wcs(\n",
    "   hips=hips,\n",
    "   wcs=spitzer_wcs,\n",
    "   get_query_payload=False,\n",
    "   format='fits'\n",
    ")\n",
    "akari_fits.writeto('omc3-AKARI.fits', overwrite=True)\n"
   ]
  },
  {
   "cell_type": "code",
   "execution_count": null,
   "id": "fbfd35ac",
   "metadata": {},
   "outputs": [],
   "source": [
    "# Display original FITS image + 3 HiPS2FITS cutouts\n",
    "\n",
    "fits_files = ['omc3-spitzer.fits', 'omc3-allwise.fits', 'omc3-MSX.fits', 'omc3-AKARI.fits']\n",
    "\n",
    "# remove axes from sub-plots\n",
    "rc = {\"axes.spines.left\" : False,\n",
    "      \"axes.spines.right\" : False,\n",
    "      \"axes.spines.bottom\" : False,\n",
    "      \"axes.spines.top\" : False,\n",
    "      \"xtick.bottom\" : False,\n",
    "      \"xtick.labelbottom\" : False,\n",
    "      \"ytick.labelleft\" : False,\n",
    "      \"ytick.left\" : False}\n",
    "plt.rcParams.update(rc)\n",
    "\n",
    "# 2x2 subplot matrix\n",
    "fig, axs = plt.subplots(nrows=2, ncols=2, figsize=(8, 8))\n",
    "\n",
    "# loop over FITS images list and display each of them\n",
    "for i, fits_file in enumerate(fits_files):\n",
    "\n",
    "    f = aplpy.FITSFigure(fits_file, figure=fig, subplot=(2, 2, i + 1))\n",
    "\n",
    "    f.show_colorscale(cmap='viridis')\n",
    "\n",
    "    f.set_title(f'{fits_file}')\n",
    "    \n",
    "    \n",
    "# Adjust layout and show the plot\n",
    "plt.tight_layout()\n",
    "plt.show()"
   ]
  },
  {
   "cell_type": "code",
   "execution_count": null,
   "id": "fd07fc9b",
   "metadata": {},
   "outputs": [],
   "source": []
  }
 ],
 "metadata": {
  "kernelspec": {
   "display_name": "Python 3 (ipykernel)",
   "language": "python",
   "name": "python3"
  },
  "language_info": {
   "codemirror_mode": {
    "name": "ipython",
    "version": 3
   },
   "file_extension": ".py",
   "mimetype": "text/x-python",
   "name": "python",
   "nbconvert_exporter": "python",
   "pygments_lexer": "ipython3",
   "version": "3.10.10"
  }
 },
 "nbformat": 4,
 "nbformat_minor": 5
}
